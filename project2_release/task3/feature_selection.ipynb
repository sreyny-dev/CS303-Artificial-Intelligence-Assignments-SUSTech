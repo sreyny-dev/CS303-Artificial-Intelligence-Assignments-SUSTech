{
 "cells": [
  {
   "cell_type": "code",
   "execution_count": 19,
   "metadata": {
    "ExecuteTime": {
     "end_time": "2024-11-14T05:48:14.929813Z",
     "start_time": "2024-11-14T05:48:14.913136900Z"
    }
   },
   "outputs": [],
   "source": [
    "import numpy as np\n",
    "import util"
   ]
  },
  {
   "cell_type": "markdown",
   "metadata": {},
   "source": [
    "## 1. Data Loading"
   ]
  },
  {
   "cell_type": "code",
   "execution_count": 20,
   "metadata": {
    "ExecuteTime": {
     "end_time": "2024-11-14T05:48:14.960576100Z",
     "start_time": "2024-11-14T05:48:14.919156700Z"
    }
   },
   "outputs": [],
   "source": [
    "validation_data = util.load_data(\"classification_validation_data.pkl\")\n",
    "validation_label = util.load_data(\"classification_validation_label.pkl\")"
   ]
  },
  {
   "cell_type": "code",
   "execution_count": 21,
   "metadata": {
    "ExecuteTime": {
     "end_time": "2024-11-14T05:48:14.962578200Z",
     "start_time": "2024-11-14T05:48:14.928811600Z"
    }
   },
   "outputs": [],
   "source": [
    "# remove index column\n",
    "train_data_index = validation_data[:, 0]\n",
    "train_label_index = validation_label[:, 0]\n",
    "validation_data = validation_data[:, 1:]\n",
    "validation_label = validation_label[:, 1:].reshape(-1)"
   ]
  },
  {
   "cell_type": "code",
   "execution_count": 22,
   "metadata": {
    "ExecuteTime": {
     "end_time": "2024-11-14T05:48:14.962578200Z",
     "start_time": "2024-11-14T05:48:14.933405100Z"
    }
   },
   "outputs": [
    {
     "data": {
      "text/plain": "((9996, 256), (9996,))"
     },
     "execution_count": 22,
     "metadata": {},
     "output_type": "execute_result"
    }
   ],
   "source": [
    "validation_data.shape, validation_label.shape"
   ]
  },
  {
   "cell_type": "code",
   "execution_count": 23,
   "metadata": {
    "ExecuteTime": {
     "end_time": "2024-11-14T05:48:14.963574800Z",
     "start_time": "2024-11-14T05:48:14.937947900Z"
    }
   },
   "outputs": [
    {
     "data": {
      "text/plain": "((9996,), (9996,))"
     },
     "execution_count": 23,
     "metadata": {},
     "output_type": "execute_result"
    }
   ],
   "source": [
    "train_data_index.shape, train_label_index.shape"
   ]
  },
  {
   "cell_type": "markdown",
   "metadata": {},
   "source": [
    "## 2. Feature Selection"
   ]
  },
  {
   "cell_type": "code",
   "execution_count": 24,
   "metadata": {
    "ExecuteTime": {
     "end_time": "2024-11-14T05:48:14.984364700Z",
     "start_time": "2024-11-14T05:48:14.943464700Z"
    }
   },
   "outputs": [
    {
     "data": {
      "text/plain": "array([ 35,  78,  72, 153,  17,   0,  46, 142, 197, 238,  85, 186,  53,\n        75, 191, 209,  56, 112,  32, 152,  80, 174,  99,   9, 254,  98,\n       134, 194,  84,   2])"
     },
     "execution_count": 24,
     "metadata": {},
     "output_type": "execute_result"
    }
   ],
   "source": [
    "num_features_to_select = 30\n",
    "\n",
    "\n",
    "# feature index\n",
    "indexs = np.arange(validation_data.shape[1]) \n",
    "\n",
    "# Randomly select 30 features index\n",
    "np.random.seed(2024)\n",
    "random_indexs = np.random.choice(indexs, size=30, replace=False)\n",
    "random_indexs"
   ]
  },
  {
   "cell_type": "code",
   "execution_count": 25,
   "metadata": {
    "ExecuteTime": {
     "end_time": "2024-11-14T05:48:14.984364700Z",
     "start_time": "2024-11-14T05:48:14.947977100Z"
    }
   },
   "outputs": [],
   "source": [
    "mask_code = np.zeros((1, validation_data.shape[1]))"
   ]
  },
  {
   "cell_type": "code",
   "execution_count": 26,
   "metadata": {
    "ExecuteTime": {
     "end_time": "2024-11-14T05:48:14.984364700Z",
     "start_time": "2024-11-14T05:48:14.950111400Z"
    }
   },
   "outputs": [],
   "source": [
    "mask_code[0, random_indexs] = 1"
   ]
  },
  {
   "cell_type": "code",
   "execution_count": 27,
   "metadata": {
    "ExecuteTime": {
     "end_time": "2024-11-14T05:48:14.985372Z",
     "start_time": "2024-11-14T05:48:14.954418200Z"
    }
   },
   "outputs": [
    {
     "name": "stdout",
     "output_type": "stream",
     "text": [
      "Saved successfully\n"
     ]
    }
   ],
   "source": [
    "util.save_data(\"./mask_code.pkl\", mask_code)"
   ]
  }
 ],
 "metadata": {
  "kernelspec": {
   "display_name": "Python 3 (ipykernel)",
   "language": "python",
   "name": "python3"
  },
  "language_info": {
   "codemirror_mode": {
    "name": "ipython",
    "version": 3
   },
   "file_extension": ".py",
   "mimetype": "text/x-python",
   "name": "python",
   "nbconvert_exporter": "python",
   "pygments_lexer": "ipython3",
   "version": "3.10.8"
  }
 },
 "nbformat": 4,
 "nbformat_minor": 4
}
