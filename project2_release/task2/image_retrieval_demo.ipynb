{
 "cells": [
  {
   "cell_type": "code",
   "metadata": {
    "ExecuteTime": {
     "end_time": "2024-10-28T11:39:29.571833Z",
     "start_time": "2024-10-28T11:39:29.568069Z"
    }
   },
   "source": [
    "import numpy as np\n",
    "import util\n",
    "from NNS import NNS"
   ],
   "outputs": [],
   "execution_count": 8
  },
  {
   "cell_type": "markdown",
   "metadata": {},
   "source": [
    "## 1. Data Loading"
   ]
  },
  {
   "cell_type": "code",
   "metadata": {
    "ExecuteTime": {
     "end_time": "2024-10-28T11:39:29.611054Z",
     "start_time": "2024-10-28T11:39:29.598840Z"
    }
   },
   "source": [
    "retrieval_repository_data = util.load_data('./data/image_retrieval_repository_data.pkl')"
   ],
   "outputs": [],
   "execution_count": 9
  },
  {
   "metadata": {},
   "cell_type": "markdown",
   "source": []
  },
  {
   "cell_type": "markdown",
   "metadata": {},
   "source": [
    "## 2. Data Exploration"
   ]
  },
  {
   "cell_type": "code",
   "metadata": {
    "ExecuteTime": {
     "end_time": "2024-10-28T11:39:29.636105Z",
     "start_time": "2024-10-28T11:39:29.632018Z"
    }
   },
   "source": [
    "print(\"Image Retrieval Repository Data Shape:\", retrieval_repository_data.shape)"
   ],
   "outputs": [
    {
     "name": "stdout",
     "output_type": "stream",
     "text": [
      "Image Retrieval Repository Data Shape: (5000, 257)\n"
     ]
    }
   ],
   "execution_count": 10
  },
  {
   "cell_type": "markdown",
   "metadata": {},
   "source": [
    "## 3. Data Preprocessing "
   ]
  },
  {
   "cell_type": "code",
   "metadata": {
    "ExecuteTime": {
     "end_time": "2024-10-28T11:39:29.767288Z",
     "start_time": "2024-10-28T11:39:29.763573Z"
    }
   },
   "source": [
    "# remove index column\n",
    "repository_data_index = retrieval_repository_data[:, 0]\n",
    "retrieval_repository_data = retrieval_repository_data[:, 1:]"
   ],
   "outputs": [],
   "execution_count": 11
  },
  {
   "cell_type": "code",
   "metadata": {
    "ExecuteTime": {
     "end_time": "2024-10-28T11:39:29.820713Z",
     "start_time": "2024-10-28T11:39:29.814380Z"
    }
   },
   "source": [
    "repository_data_index.shape"
   ],
   "outputs": [
    {
     "data": {
      "text/plain": [
       "(5000,)"
      ]
     },
     "execution_count": 12,
     "metadata": {},
     "output_type": "execute_result"
    }
   ],
   "execution_count": 12
  },
  {
   "cell_type": "code",
   "metadata": {
    "ExecuteTime": {
     "end_time": "2024-10-28T11:39:29.939022Z",
     "start_time": "2024-10-28T11:39:29.933576Z"
    }
   },
   "source": [
    "retrieval_repository_data.shape"
   ],
   "outputs": [
    {
     "data": {
      "text/plain": [
       "(5000, 256)"
      ]
     },
     "execution_count": 13,
     "metadata": {},
     "output_type": "execute_result"
    }
   ],
   "execution_count": 13
  },
  {
   "cell_type": "markdown",
   "metadata": {},
   "source": [
    "## 4. Model"
   ]
  },
  {
   "cell_type": "code",
   "metadata": {
    "ExecuteTime": {
     "end_time": "2024-10-28T11:39:30.057360Z",
     "start_time": "2024-10-28T11:39:30.053916Z"
    }
   },
   "source": [
    "nns_model = NNS(k=5)"
   ],
   "outputs": [],
   "execution_count": 14
  },
  {
   "cell_type": "markdown",
   "metadata": {},
   "source": [
    "## 5. Train"
   ]
  },
  {
   "cell_type": "code",
   "metadata": {
    "ExecuteTime": {
     "end_time": "2024-10-28T11:39:30.141307Z",
     "start_time": "2024-10-28T11:39:30.136003Z"
    }
   },
   "source": [
    "nns_model.fit(X_train=retrieval_repository_data)"
   ],
   "outputs": [],
   "execution_count": 15
  },
  {
   "cell_type": "markdown",
   "metadata": {},
   "source": [
    "## 6. Predict"
   ]
  },
  {
   "cell_type": "code",
   "metadata": {
    "ExecuteTime": {
     "end_time": "2024-10-28T11:40:48.210712Z",
     "start_time": "2024-10-28T11:40:16.881459Z"
    }
   },
   "source": [
    "k_nearest = nns_model.predict(retrieval_repository_data[:1000])"
   ],
   "outputs": [
    {
     "name": "stderr",
     "output_type": "stream",
     "text": [
      "100%|██████████| 1000/1000 [00:31<00:00, 31.93it/s]\n"
     ]
    }
   ],
   "execution_count": 17
  },
  {
   "cell_type": "code",
   "metadata": {
    "ExecuteTime": {
     "end_time": "2024-10-28T11:40:51.931179Z",
     "start_time": "2024-10-28T11:40:51.924549Z"
    }
   },
   "source": [
    "k_nearest.shape"
   ],
   "outputs": [
    {
     "data": {
      "text/plain": [
       "(1000, 5)"
      ]
     },
     "execution_count": 18,
     "metadata": {},
     "output_type": "execute_result"
    }
   ],
   "execution_count": 18
  },
  {
   "metadata": {},
   "cell_type": "code",
   "source": [],
   "outputs": [],
   "execution_count": null
  }
 ],
 "metadata": {
  "kernelspec": {
   "display_name": "base",
   "language": "python",
   "name": "python3"
  },
  "language_info": {
   "codemirror_mode": {
    "name": "ipython",
    "version": 3
   },
   "file_extension": ".py",
   "mimetype": "text/x-python",
   "name": "python",
   "nbconvert_exporter": "python",
   "pygments_lexer": "ipython3",
   "version": "3.10.8"
  },
  "orig_nbformat": 4
 },
 "nbformat": 4,
 "nbformat_minor": 2
}
